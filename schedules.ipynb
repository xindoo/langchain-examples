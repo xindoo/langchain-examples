{
 "cells": [
  {
   "cell_type": "code",
   "execution_count": 118,
   "id": "a8b8e14d-9a36-446a-b5c0-d46e84f22232",
   "metadata": {},
   "outputs": [],
   "source": [
    "import sqlite3\n",
    "from langchain_core.tools import tool\n",
    "from langchain.agents import AgentExecutor, create_tool_calling_agent\n",
    "from langchain_openai import ChatOpenAI\n",
    "from langchain_core.prompts import ChatPromptTemplate\n",
    "from langchain_core.chat_history import BaseChatMessageHistory\n",
    "from langchain_core.runnables.history import RunnableWithMessageHistory\n",
    "from langchain_community.chat_message_histories import ChatMessageHistory\n",
    "import datetime\n"
   ]
  },
  {
   "cell_type": "code",
   "execution_count": 113,
   "id": "012e45e2-ea45-4d61-8ba1-dc6e60faed5c",
   "metadata": {},
   "outputs": [
    {
     "name": "stdout",
     "output_type": "stream",
     "text": [
      "数据库和表已成功创建！\n"
     ]
    }
   ],
   "source": [
    "# 建表\n",
    "# 连接到 SQLite 数据库\n",
    "# 如果文件不存在，会自动在当前目录创建一个名为 'langchain.db' 的数据库文件\n",
    "conn = sqlite3.connect('langchain.db')\n",
    "\n",
    "# 创建一个 Cursor 对象并通过它执行 SQL 语句\n",
    "c = conn.cursor()\n",
    "# 创建表\n",
    "c.execute('''\n",
    "create table if not exists schedules \n",
    "(\n",
    "    id          INTEGER\n",
    "        primary key autoincrement,\n",
    "    start_time  TEXT default (strftime('%Y-%m-%d %H:%M:%S', 'now', 'localtime')) not null,\n",
    "    description TEXT default ''                                                  not null\n",
    ");\n",
    "''')\n",
    "\n",
    "\n",
    "# 提交事务\n",
    "conn.commit()\n",
    "# 关闭连接\n",
    "conn.close()\n",
    "\n",
    "print(\"数据库和表已成功创建！\")"
   ]
  },
  {
   "cell_type": "code",
   "execution_count": 67,
   "id": "0dbdf823-f793-420f-b43d-6a40184ebe55",
   "metadata": {},
   "outputs": [],
   "source": [
    "import sqlite3\n",
    "\n",
    "\n",
    "def connect_db():\n",
    "    \"\"\" 连接到数据库 \"\"\"\n",
    "    conn = sqlite3.connect('langchain.db')\n",
    "    return conn\n",
    "    \n",
    "@tool\n",
    "def add_schedule(start_time : str, description : str) -> str: \n",
    "    \"\"\" 新增日程，比如2024-05-03 20:00:00, 周会 \"\"\"\n",
    "    conn = connect_db()\n",
    "    cursor = conn.cursor()\n",
    "    cursor.execute(\"\"\"\n",
    "        INSERT INTO schedules (start_time, description) VALUES (?, ?);\n",
    "    \"\"\", (start_time, description,))\n",
    "    conn.commit()\n",
    "    conn.close()\n",
    "    return \"true\"\n",
    "\n",
    "@tool\n",
    "def delete_schedule_by_time(start_time : str) -> str:\n",
    "    \"\"\" 根据时间删除日程 \"\"\"\n",
    "    conn = connect_db()\n",
    "    cursor = conn.cursor()\n",
    "    cursor.execute(\"\"\"\n",
    "        DELETE FROM schedules WHERE start_time = ?;\n",
    "    \"\"\", (start_time,))\n",
    "    conn.commit()\n",
    "    conn.close()\n",
    "    return \"true\"\n",
    "    \n",
    "@tool\n",
    "def get_schedules_by_date(query_date : str) -> str:\n",
    "    \"\"\" 根据日期查询日程，比如 获取2024-05-03的所有日程 \"\"\"\n",
    "    conn = connect_db()\n",
    "    cursor = conn.cursor()\n",
    "    cursor.execute(\"\"\"\n",
    "        SELECT start_time, description FROM schedules WHERE start_time LIKE ?;\n",
    "    \"\"\", (f\"{query_date}%\",))\n",
    "    schedules = cursor.fetchall()\n",
    "    conn.close()\n",
    "    return str(schedules)"
   ]
  },
  {
   "cell_type": "code",
   "execution_count": 68,
   "id": "af9d4bd5-afbf-4f21-ab3a-75099b745dd7",
   "metadata": {},
   "outputs": [],
   "source": [
    "llm = ChatOpenAI(model=\"gpt-3.5-turbo\", max_tokens=4096)\n",
    "tools = [add_schedule, delete_schedule_by_time, get_schedules_by_date]\n",
    "llm_with_tools = llm.bind_tools(tools)"
   ]
  },
  {
   "cell_type": "code",
   "execution_count": 69,
   "id": "e4ecd281-05ec-4e5f-bede-963a6ecb273a",
   "metadata": {},
   "outputs": [],
   "source": [
    "prompt = ChatPromptTemplate.from_messages(\n",
    "    [\n",
    "        (\n",
    "            \"system\",\n",
    "            \"你是一个日程管理助手\",\n",
    "        ),\n",
    "        (\"placeholder\", \"{chat_history}\"),\n",
    "        (\"user\", \"{input} \\n\\n 当前时间为：{current_time}\"),\n",
    "        (\"placeholder\", \"{agent_scratchpad}\"),\n",
    "    ]\n",
    ")"
   ]
  },
  {
   "cell_type": "code",
   "execution_count": 70,
   "id": "9b21fb79-f843-47e4-9c13-eb9900d27877",
   "metadata": {},
   "outputs": [],
   "source": [
    "agent = create_tool_calling_agent(llm_with_tools, tools, prompt)\n",
    "agent_executor = AgentExecutor(agent=agent, tools=tools, verbose=False)"
   ]
  },
  {
   "cell_type": "code",
   "execution_count": 78,
   "id": "37bb1989-cf45-484d-8de8-e78ab5360351",
   "metadata": {},
   "outputs": [],
   "source": [
    "def ask(question):\n",
    "    res = agent_executor.invoke(\n",
    "        {\n",
    "            \"input\": question,\n",
    "            \"current_time\": datetime.datetime.now().strftime('%Y-%m-%d %H:%M:%S')\n",
    "        }\n",
    "    )\n",
    "    return res[\"output\"]"
   ]
  },
  {
   "cell_type": "code",
   "execution_count": null,
   "id": "6a4065ea-efbf-402f-93c8-d77b1242c29d",
   "metadata": {},
   "outputs": [],
   "source": [
    "while True:\n",
    "    question = input(\">\")\n",
    "    if question.lower() == '退出':\n",
    "        break\n",
    "    print(ask(question))"
   ]
  },
  {
   "cell_type": "code",
   "execution_count": 122,
   "id": "cba14a2c-6dfe-4060-937a-c5856b99342c",
   "metadata": {},
   "outputs": [],
   "source": [
    "store = {}\n",
    "def get_session_history(session_id: str) -> BaseChatMessageHistory:\n",
    "    if session_id not in store:\n",
    "        store[session_id] = ChatMessageHistory()\n",
    "    return store[session_id]"
   ]
  },
  {
   "cell_type": "code",
   "execution_count": 123,
   "id": "b554e2bf-e19b-421f-94a0-54b8560fb3b8",
   "metadata": {},
   "outputs": [],
   "source": [
    "\n",
    "agent_with_chat_history = RunnableWithMessageHistory(\n",
    "    agent_executor,\n",
    "    get_session_history,\n",
    "    input_messages_key=\"input\",\n",
    "    history_messages_key=\"chat_history\",\n",
    ")"
   ]
  },
  {
   "cell_type": "code",
   "execution_count": 126,
   "id": "b973cfe2-7f01-4084-9c08-449a2cdb1088",
   "metadata": {},
   "outputs": [
    {
     "name": "stderr",
     "output_type": "stream",
     "text": [
      "Parent run 0b63b0a3-8393-409b-b303-3d5e7eee5dbf not found for run c125bee1-d0d1-400d-83f0-1fd0e75f3ee0. Treating as a root run.\n"
     ]
    },
    {
     "data": {
      "text/plain": [
       "{'input': '我明天有啥日程？',\n",
       " 'current_time': '2024-05-04 13:44:43',\n",
       " 'chat_history': [],\n",
       " 'output': '明天的日程安排如下：\\n- 09:00:00: 沟通会'}"
      ]
     },
     "execution_count": 126,
     "metadata": {},
     "output_type": "execute_result"
    }
   ],
   "source": [
    "res = agent_with_chat_history.invoke(\n",
    "        {\n",
    "            \"input\": \"我明天有啥日程？\",\n",
    "            \"current_time\": datetime.datetime.now().strftime('%Y-%m-%d %H:%M:%S')\n",
    "        },\n",
    "        config={\"configurable\": {\"session_id\": \"111\"}}\n",
    "    )\n",
    "res"
   ]
  },
  {
   "cell_type": "code",
   "execution_count": 127,
   "id": "316b2331-e1a3-4b12-900a-634686be98fc",
   "metadata": {},
   "outputs": [
    {
     "data": {
      "text/plain": [
       "{'222': InMemoryChatMessageHistory(messages=[HumanMessage(content='你好？'), AIMessage(content='你好！有什么可以帮助你的吗？'), HumanMessage(content='我明天有啥日程？'), AIMessage(content='明天的日程安排如下：\\n1. 时间：2024-05-05 09:00:00，日程：沟通会')]),\n",
       " '111': InMemoryChatMessageHistory(messages=[HumanMessage(content='我明天有啥日程？'), AIMessage(content='明天的日程安排如下：\\n- 09:00:00: 沟通会')])}"
      ]
     },
     "execution_count": 127,
     "metadata": {},
     "output_type": "execute_result"
    }
   ],
   "source": [
    "store"
   ]
  },
  {
   "cell_type": "code",
   "execution_count": 105,
   "id": "ee2c1dec-2e86-4bab-890c-b173ae99dfc4",
   "metadata": {},
   "outputs": [
    {
     "data": {
      "text/plain": [
       "InMemoryChatMessageHistory(messages=[HumanMessage(content='你好'), AIMessage(content='你好！有什么可以帮助你的吗？'), HumanMessage(content='讲个笑话'), AIMessage(content='抱歉，我不会讲笑话。不过如果你有其他需要的话，欢迎告诉我哦！'), HumanMessage(content='我今天有啥安排？'), AIMessage(content='今天的日程安排如下：\\n1. 10:00:00 - 技术分享会\\n2. 15:00:00 - 周会\\n\\n希望你能顺利完成今天的安排！如果有其他问题或需要帮助，请随时告诉我。'), HumanMessage(content='明天早上9点，我要开一个沟通会'), AIMessage(content='好的，我已经帮你添加了明天早上9点的沟通会日程。希望会议顺利进行！如果还有其他需求或问题，请随时告诉我。'), HumanMessage(content='我今天下午有会吗？'), AIMessage(content='今天下午您有一场周会安排在15:00。希望您能准时参加！如果有其他问题或需要帮助，请随时告诉我。'), HumanMessage(content='我今天下午有会吗？'), AIMessage(content='根据我的查询，今天下午您有一场周会安排在15:00。希望您能准时参加！如果有其他问题或需要帮助，请随时告诉我。')])"
      ]
     },
     "execution_count": 105,
     "metadata": {},
     "output_type": "execute_result"
    }
   ],
   "source": [
    "message_history"
   ]
  },
  {
   "cell_type": "code",
   "execution_count": null,
   "id": "b10327a9-9163-429c-b4df-37717c364e67",
   "metadata": {},
   "outputs": [],
   "source": []
  }
 ],
 "metadata": {
  "kernelspec": {
   "display_name": "Python 3 (ipykernel)",
   "language": "python",
   "name": "python3"
  },
  "language_info": {
   "codemirror_mode": {
    "name": "ipython",
    "version": 3
   },
   "file_extension": ".py",
   "mimetype": "text/x-python",
   "name": "python",
   "nbconvert_exporter": "python",
   "pygments_lexer": "ipython3",
   "version": "3.10.11"
  }
 },
 "nbformat": 4,
 "nbformat_minor": 5
}
