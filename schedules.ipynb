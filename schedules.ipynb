{
 "cells": [
  {
   "cell_type": "code",
   "execution_count": 54,
   "id": "a8b8e14d-9a36-446a-b5c0-d46e84f22232",
   "metadata": {},
   "outputs": [],
   "source": [
    "import sqlite3\n",
    "from langchain_core.tools import tool\n",
    "from langchain_community.document_loaders import WebBaseLoader\n",
    "from langchain_core.tools import tool\n",
    "from langchain.agents import AgentExecutor, create_tool_calling_agent\n",
    "from langchain import hub\n",
    "from langchain_openai import ChatOpenAI\n",
    "from langchain_core.prompts import ChatPromptTemplate, MessagesPlaceholder\n",
    "import datetime\n"
   ]
  },
  {
   "cell_type": "code",
   "execution_count": 8,
   "id": "012e45e2-ea45-4d61-8ba1-dc6e60faed5c",
   "metadata": {},
   "outputs": [
    {
     "ename": "OperationalError",
     "evalue": "table schedules already exists",
     "output_type": "error",
     "traceback": [
      "\u001b[0;31m---------------------------------------------------------------------------\u001b[0m",
      "\u001b[0;31mOperationalError\u001b[0m                          Traceback (most recent call last)",
      "Cell \u001b[0;32mIn[8], line 9\u001b[0m\n\u001b[1;32m      7\u001b[0m c \u001b[38;5;241m=\u001b[39m conn\u001b[38;5;241m.\u001b[39mcursor()\n\u001b[1;32m      8\u001b[0m \u001b[38;5;66;03m# 创建表\u001b[39;00m\n\u001b[0;32m----> 9\u001b[0m \u001b[43mc\u001b[49m\u001b[38;5;241;43m.\u001b[39;49m\u001b[43mexecute\u001b[49m\u001b[43m(\u001b[49m\u001b[38;5;124;43m'''\u001b[39;49m\n\u001b[1;32m     10\u001b[0m \u001b[38;5;124;43mcreate table schedules\u001b[39;49m\n\u001b[1;32m     11\u001b[0m \u001b[38;5;124;43m(\u001b[39;49m\n\u001b[1;32m     12\u001b[0m \u001b[38;5;124;43m    id          INTEGER\u001b[39;49m\n\u001b[1;32m     13\u001b[0m \u001b[38;5;124;43m        primary key autoincrement,\u001b[39;49m\n\u001b[1;32m     14\u001b[0m \u001b[38;5;124;43m    start_date  TEXT default (strftime(\u001b[39;49m\u001b[38;5;124;43m'\u001b[39;49m\u001b[38;5;124;43m%\u001b[39;49m\u001b[38;5;124;43mY-\u001b[39;49m\u001b[38;5;124;43m%\u001b[39;49m\u001b[38;5;124;43mm-\u001b[39;49m\u001b[38;5;132;43;01m%d\u001b[39;49;00m\u001b[38;5;124;43m \u001b[39;49m\u001b[38;5;124;43m%\u001b[39;49m\u001b[38;5;124;43mH:\u001b[39;49m\u001b[38;5;124;43m%\u001b[39;49m\u001b[38;5;124;43mM:\u001b[39;49m\u001b[38;5;124;43m%\u001b[39;49m\u001b[38;5;124;43mS\u001b[39;49m\u001b[38;5;124;43m'\u001b[39;49m\u001b[38;5;124;43m, \u001b[39;49m\u001b[38;5;124;43m'\u001b[39;49m\u001b[38;5;124;43mnow\u001b[39;49m\u001b[38;5;124;43m'\u001b[39;49m\u001b[38;5;124;43m, \u001b[39;49m\u001b[38;5;124;43m'\u001b[39;49m\u001b[38;5;124;43mlocaltime\u001b[39;49m\u001b[38;5;124;43m'\u001b[39;49m\u001b[38;5;124;43m)) not null,\u001b[39;49m\n\u001b[1;32m     15\u001b[0m \u001b[38;5;124;43m    description TEXT default \u001b[39;49m\u001b[38;5;124;43m'\u001b[39;49m\u001b[38;5;124;43m'\u001b[39;49m\u001b[38;5;124;43m                                                  not null\u001b[39;49m\n\u001b[1;32m     16\u001b[0m \u001b[38;5;124;43m);\u001b[39;49m\n\u001b[1;32m     17\u001b[0m \u001b[38;5;124;43m'''\u001b[39;49m\u001b[43m)\u001b[49m\n\u001b[1;32m     20\u001b[0m \u001b[38;5;66;03m# 提交事务\u001b[39;00m\n\u001b[1;32m     21\u001b[0m conn\u001b[38;5;241m.\u001b[39mcommit()\n",
      "\u001b[0;31mOperationalError\u001b[0m: table schedules already exists"
     ]
    }
   ],
   "source": [
    "# 建表\n",
    "# 连接到 SQLite 数据库\n",
    "# 如果文件不存在，会自动在当前目录创建一个名为 'langchain.db' 的数据库文件\n",
    "conn = sqlite3.connect('langchain.db')\n",
    "\n",
    "# 创建一个 Cursor 对象并通过它执行 SQL 语句\n",
    "c = conn.cursor()\n",
    "# 创建表\n",
    "c.execute('''\n",
    "create table schedules\n",
    "(\n",
    "    id          INTEGER\n",
    "        primary key autoincrement,\n",
    "    start_time  TEXT default (strftime('%Y-%m-%d %H:%M:%S', 'now', 'localtime')) not null,\n",
    "    description TEXT default ''                                                  not null\n",
    ");\n",
    "''')\n",
    "\n",
    "\n",
    "# 提交事务\n",
    "conn.commit()\n",
    "# 关闭连接\n",
    "conn.close()\n",
    "\n",
    "print(\"数据库和表已成功创建！\")"
   ]
  },
  {
   "cell_type": "code",
   "execution_count": 67,
   "id": "0dbdf823-f793-420f-b43d-6a40184ebe55",
   "metadata": {},
   "outputs": [],
   "source": [
    "import sqlite3\n",
    "\n",
    "\n",
    "def connect_db():\n",
    "    \"\"\" 连接到数据库 \"\"\"\n",
    "    conn = sqlite3.connect('langchain.db')\n",
    "    return conn\n",
    "    \n",
    "@tool\n",
    "def add_schedule(start_time : str, description : str) -> str: \n",
    "    \"\"\" 新增日程，比如2024-05-03 20:00:00, 周会 \"\"\"\n",
    "    conn = connect_db()\n",
    "    cursor = conn.cursor()\n",
    "    cursor.execute(\"\"\"\n",
    "        INSERT INTO schedules (start_time, description) VALUES (?, ?);\n",
    "    \"\"\", (start_time, description,))\n",
    "    conn.commit()\n",
    "    conn.close()\n",
    "    return \"true\"\n",
    "\n",
    "@tool\n",
    "def delete_schedule_by_time(start_time : str) -> str:\n",
    "    \"\"\" 根据时间删除日程 \"\"\"\n",
    "    conn = connect_db()\n",
    "    cursor = conn.cursor()\n",
    "    cursor.execute(\"\"\"\n",
    "        DELETE FROM schedules WHERE start_time = ?;\n",
    "    \"\"\", (start_time,))\n",
    "    conn.commit()\n",
    "    conn.close()\n",
    "    return \"true\"\n",
    "    \n",
    "@tool\n",
    "def get_schedules_by_date(query_date : str) -> str:\n",
    "    \"\"\" 根据日期查询日程，比如 获取2024-05-03的所有日程 \"\"\"\n",
    "    conn = connect_db()\n",
    "    cursor = conn.cursor()\n",
    "    cursor.execute(\"\"\"\n",
    "        SELECT start_time, description FROM schedules WHERE start_time LIKE ?;\n",
    "    \"\"\", (f\"{query_date}%\",))\n",
    "    schedules = cursor.fetchall()\n",
    "    conn.close()\n",
    "    return str(schedules)"
   ]
  },
  {
   "cell_type": "code",
   "execution_count": 68,
   "id": "af9d4bd5-afbf-4f21-ab3a-75099b745dd7",
   "metadata": {},
   "outputs": [],
   "source": [
    "llm = ChatOpenAI(model=\"gpt-3.5-turbo\", max_tokens=4096)\n",
    "tools = [add_schedule, delete_schedule_by_time, get_schedules_by_date]\n",
    "llm_with_tools = llm.bind_tools(tools)"
   ]
  },
  {
   "cell_type": "code",
   "execution_count": 69,
   "id": "e4ecd281-05ec-4e5f-bede-963a6ecb273a",
   "metadata": {},
   "outputs": [],
   "source": [
    "prompt = ChatPromptTemplate.from_messages(\n",
    "    [\n",
    "        (\n",
    "            \"system\",\n",
    "            \"你是一个日程管理助手\",\n",
    "        ),\n",
    "        (\"placeholder\", \"{chat_history}\"),\n",
    "        (\"user\", \"{input} \\n\\n 当前时间为：{current_time}\"),\n",
    "        (\"placeholder\", \"{agent_scratchpad}\"),\n",
    "    ]\n",
    ")"
   ]
  },
  {
   "cell_type": "code",
   "execution_count": 70,
   "id": "9b21fb79-f843-47e4-9c13-eb9900d27877",
   "metadata": {},
   "outputs": [],
   "source": [
    "agent = create_tool_calling_agent(llm_with_tools, tools, prompt)\n",
    "agent_executor = AgentExecutor(agent=agent, tools=tools, verbose=False)"
   ]
  },
  {
   "cell_type": "code",
   "execution_count": 78,
   "id": "37bb1989-cf45-484d-8de8-e78ab5360351",
   "metadata": {},
   "outputs": [],
   "source": [
    "def ask(question):\n",
    "    res = agent_executor.invoke(\n",
    "        {\n",
    "            \"input\": question,\n",
    "            \"current_time\": datetime.datetime.now().strftime('%Y-%m-%d %H:%M:%S')\n",
    "        }\n",
    "    )\n",
    "    return res[\"output\"]"
   ]
  },
  {
   "cell_type": "code",
   "execution_count": null,
   "id": "6a4065ea-efbf-402f-93c8-d77b1242c29d",
   "metadata": {},
   "outputs": [],
   "source": [
    "while True:\n",
    "    question = input(\">\")\n",
    "    if question.lower() == '退出':\n",
    "        break\n",
    "    print(ask(question))"
   ]
  },
  {
   "cell_type": "code",
   "execution_count": null,
   "id": "b554e2bf-e19b-421f-94a0-54b8560fb3b8",
   "metadata": {},
   "outputs": [],
   "source": []
  }
 ],
 "metadata": {
  "kernelspec": {
   "display_name": "Python 3 (ipykernel)",
   "language": "python",
   "name": "python3"
  },
  "language_info": {
   "codemirror_mode": {
    "name": "ipython",
    "version": 3
   },
   "file_extension": ".py",
   "mimetype": "text/x-python",
   "name": "python",
   "nbconvert_exporter": "python",
   "pygments_lexer": "ipython3",
   "version": "3.10.11"
  }
 },
 "nbformat": 4,
 "nbformat_minor": 5
}
