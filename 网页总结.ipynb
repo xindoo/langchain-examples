{
 "cells": [
  {
   "cell_type": "code",
   "execution_count": 1,
   "id": "d2f56a61-7b55-4eb4-abc2-de6b86e033af",
   "metadata": {},
   "outputs": [
    {
     "name": "stdout",
     "output_type": "stream",
     "text": [
      "Intel MKL WARNING: Support of Intel(R) Streaming SIMD Extensions 4.2 (Intel(R) SSE4.2) enabled only processors has been deprecated. Intel oneAPI Math Kernel Library 2025.0 will require Intel(R) Advanced Vector Extensions (Intel(R) AVX) instructions.\n",
      "Intel MKL WARNING: Support of Intel(R) Streaming SIMD Extensions 4.2 (Intel(R) SSE4.2) enabled only processors has been deprecated. Intel oneAPI Math Kernel Library 2025.0 will require Intel(R) Advanced Vector Extensions (Intel(R) AVX) instructions.\n"
     ]
    }
   ],
   "source": [
    "from langchain_community.document_loaders import WebBaseLoader\n",
    "from langchain_core.tools import tool\n",
    "from langchain.agents import AgentExecutor, create_tool_calling_agent\n",
    "from langchain import hub\n",
    "from langchain_openai import ChatOpenAI\n",
    "from langchain_core.prompts import ChatPromptTemplate, MessagesPlaceholder\n"
   ]
  },
  {
   "cell_type": "code",
   "execution_count": 2,
   "id": "d1426974-2360-4add-8ee4-ffbef776ef83",
   "metadata": {},
   "outputs": [],
   "source": [
    "@tool\n",
    "def web_loader(url: str) -> str:\n",
    "    \"\"\"抓取url对应网页的内容\"\"\"\n",
    "    loader = WebBaseLoader(url)\n",
    "    docs = loader.load()\n",
    "    return docs[0].page_content"
   ]
  },
  {
   "cell_type": "code",
   "execution_count": 3,
   "id": "74a3636a-096d-4cec-b3d1-99be6aae54ed",
   "metadata": {},
   "outputs": [],
   "source": [
    "llm = ChatOpenAI(model=\"gpt-3.5-turbo\", max_tokens=4096)\n",
    "tools = [web_loader]\n",
    "llm_with_tools = llm.bind_tools(tools)\n"
   ]
  },
  {
   "cell_type": "code",
   "execution_count": 4,
   "id": "8c098477-38b0-4977-8feb-053846a2b265",
   "metadata": {},
   "outputs": [],
   "source": [
    "prompt = ChatPromptTemplate.from_messages(\n",
    "    [\n",
    "        (\n",
    "            \"system\",\n",
    "            \"你是一个擅长对长文做总结的智能助手，可以精确提炼出长文中的要点。注意，请使用markdown格式返回结果。\",\n",
    "        ),\n",
    "        (\"placeholder\", \"{chat_history}\"),\n",
    "        (\"user\", \"{input}\"),\n",
    "        (\"placeholder\", \"{agent_scratchpad}\"),\n",
    "    ]\n",
    ")"
   ]
  },
  {
   "cell_type": "code",
   "execution_count": 5,
   "id": "fe8e9231-df61-4c51-8d79-116db8a4950d",
   "metadata": {},
   "outputs": [
    {
     "data": {
      "text/plain": [
       "ChatPromptTemplate(input_variables=['input'], input_types={'chat_history': typing.List[typing.Union[langchain_core.messages.ai.AIMessage, langchain_core.messages.human.HumanMessage, langchain_core.messages.chat.ChatMessage, langchain_core.messages.system.SystemMessage, langchain_core.messages.function.FunctionMessage, langchain_core.messages.tool.ToolMessage]], 'agent_scratchpad': typing.List[typing.Union[langchain_core.messages.ai.AIMessage, langchain_core.messages.human.HumanMessage, langchain_core.messages.chat.ChatMessage, langchain_core.messages.system.SystemMessage, langchain_core.messages.function.FunctionMessage, langchain_core.messages.tool.ToolMessage]]}, partial_variables={'chat_history': [], 'agent_scratchpad': []}, messages=[SystemMessagePromptTemplate(prompt=PromptTemplate(input_variables=[], template='你是一个擅长对长文做总结的智能助手，可以精确提炼出长文中的要点。注意，请使用markdown格式返回结果。')), MessagesPlaceholder(variable_name='chat_history', optional=True), HumanMessagePromptTemplate(prompt=PromptTemplate(input_variables=['input'], template='{input}')), MessagesPlaceholder(variable_name='agent_scratchpad', optional=True)])"
      ]
     },
     "execution_count": 5,
     "metadata": {},
     "output_type": "execute_result"
    }
   ],
   "source": [
    "prompt"
   ]
  },
  {
   "cell_type": "code",
   "execution_count": 6,
   "id": "992fd926-ee5e-4278-9fea-a2273c58824e",
   "metadata": {},
   "outputs": [],
   "source": [
    "agent = create_tool_calling_agent(llm_with_tools, tools, prompt)"
   ]
  },
  {
   "cell_type": "code",
   "execution_count": 7,
   "id": "e9005228-96bc-4a00-9d3f-e5dd2e878d12",
   "metadata": {},
   "outputs": [],
   "source": [
    "\n",
    "agent_executor = AgentExecutor(agent=agent, tools=tools, verbose=False)"
   ]
  },
  {
   "cell_type": "code",
   "execution_count": 8,
   "id": "39c51f7f-f9b9-4dce-89c9-27f15cedb5bc",
   "metadata": {},
   "outputs": [],
   "source": [
    "res = agent_executor.invoke(\n",
    "    {\n",
    "        \"input\": \"这个链接讲了什么内容？ https://blog.csdn.net/xindoo/article/details/138356308?spm=1001.2014.3001.5501\"\n",
    "    }\n",
    ")"
   ]
  },
  {
   "cell_type": "code",
   "execution_count": 9,
   "id": "bea980b1-e311-49da-9c57-f0fe959a5ea2",
   "metadata": {},
   "outputs": [
    {
     "data": {
      "text/plain": [
       "{'input': '这个链接讲了什么内容？ https://blog.csdn.net/xindoo/article/details/138356308?spm=1001.2014.3001.5501',\n",
       " 'output': '# 文章总结\\n\\n- **标题**: 推荐一个好用的命令行工具ShellGPT\\n- **作者**: xindoo\\n- **发布日期**: 2024-04-30\\n- **阅读量**: 595，收藏 21，点赞 15\\n\\n## 内容概要\\n文章介绍了一个开源软件ShellGPT，可以帮助用户快速生成shell命令、代码片段和文档，无需依赖外部资源。主要内容包括：\\n1. **配置安装**: 支持Linux、macOS、Windows系统，通过pip安装，依赖于外部大语言模型。\\n2. **常用功能**:\\n    - 聊天功能：使用ShellGPT可以进行基础的单轮和多轮聊天。\\n    - 写命令并执行：ShellGPT可以帮助用户生成并执行命令。\\n3. **高级功能**:\\n    - 函数调用：ShellGPT支持LLM执行系统中的函数，提供更复杂的功能。\\n    - 角色管理：用户可以创建自定义角色，执行特定功能。\\n4. **总结**: 文章介绍了ShellGPT的基本功能和高级功能，鼓励读者自行探索更多细节。\\n\\n作者提到，由于篇幅限制，只介绍了部分内容，建议通过查看完整参数信息和使用`sgpt --help`来了解更多功能。文章结尾作者分享了一些相关推荐文章和专栏。\\n\\n详细内容请访问[原文链接](https://blog.csdn.net/xindoo/article/details/138356308)。'}"
      ]
     },
     "execution_count": 9,
     "metadata": {},
     "output_type": "execute_result"
    }
   ],
   "source": [
    "res"
   ]
  },
  {
   "cell_type": "code",
   "execution_count": null,
   "id": "eb514dc9-40ea-4101-86ca-1c0877f9302b",
   "metadata": {},
   "outputs": [],
   "source": []
  }
 ],
 "metadata": {
  "kernelspec": {
   "display_name": "Python 3 (ipykernel)",
   "language": "python",
   "name": "python3"
  },
  "language_info": {
   "codemirror_mode": {
    "name": "ipython",
    "version": 3
   },
   "file_extension": ".py",
   "mimetype": "text/x-python",
   "name": "python",
   "nbconvert_exporter": "python",
   "pygments_lexer": "ipython3",
   "version": "3.11.9"
  }
 },
 "nbformat": 4,
 "nbformat_minor": 5
}
