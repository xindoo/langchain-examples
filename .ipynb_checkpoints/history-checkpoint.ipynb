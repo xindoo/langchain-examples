{
 "cells": [
  {
   "cell_type": "code",
   "execution_count": 16,
   "id": "7af24818-82f3-4440-ae49-e3e4cd310bf0",
   "metadata": {},
   "outputs": [],
   "source": [
    "from langchain_core.prompts import ChatPromptTemplate\n",
    "from langchain_openai import ChatOpenAI\n",
    "from langchain_core.runnables.history import RunnableWithMessageHistory,BaseChatMessageHistory"
   ]
  },
  {
   "cell_type": "code",
   "execution_count": 74,
   "id": "cca94403-8c9e-4483-bfcf-8ee737668126",
   "metadata": {},
   "outputs": [],
   "source": [
    "from langchain_community.chat_message_histories import SQLChatMessageHistory\n",
    "\n",
    "def get_session_history(session_id: str) -> BaseChatMessageHistory:\n",
    "    return SQLChatMessageHistory(\n",
    "        session_id=session_id, connection_string=\"sqlite:///langchain.db\"\n",
    "    )\n"
   ]
  },
  {
   "cell_type": "code",
   "execution_count": 75,
   "id": "22f8cb88-12a6-48e6-aebd-486d41c60386",
   "metadata": {},
   "outputs": [],
   "source": [
    "llm = ChatOpenAI(model=\"gpt-3.5-turbo\", max_tokens=4096)"
   ]
  },
  {
   "cell_type": "code",
   "execution_count": 99,
   "id": "562bed07-e7dd-48b4-8baf-31267cbf3ffb",
   "metadata": {},
   "outputs": [],
   "source": [
    "from langchain_core.prompts import ChatPromptTemplate, MessagesPlaceholder\n",
    "from langchain_openai.chat_models import ChatOpenAI\n",
    "\n",
    "model = ChatOpenAI()\n",
    "prompt = ChatPromptTemplate.from_messages(\n",
    "    [\n",
    "        (\n",
    "            \"system\",\n",
    "            \"你是一个智能聊天机器人，名字叫二狗，请用markdown格式回答任何问题\",\n",
    "        ),\n",
    "        MessagesPlaceholder(variable_name=\"history\"),\n",
    "        (\"human\", \"{input}\"),\n",
    "    ]\n",
    ")\n",
    "chain = prompt | llm"
   ]
  },
  {
   "cell_type": "code",
   "execution_count": 101,
   "id": "b79f5ac3-6092-40c0-8ce5-6855f936c387",
   "metadata": {},
   "outputs": [],
   "source": [
    "with_message_history = RunnableWithMessageHistory(\n",
    "    chain,\n",
    "    get_session_history,\n",
    "    input_messages_key=\"input\",\n",
    "    history_messages_key=\"history\",\n",
    ")"
   ]
  },
  {
   "cell_type": "code",
   "execution_count": 124,
   "id": "5d4ef1fc-5b97-4611-bfe0-47bdfa84cd72",
   "metadata": {},
   "outputs": [
    {
     "name": "stderr",
     "output_type": "stream",
     "text": [
      "Parent run c4ca70c9-c823-4f24-ab6d-b236bc11389b not found for run a70c728e-c968-4720-9479-23e17a412d7b. Treating as a root run.\n"
     ]
    }
   ],
   "source": [
    "res = with_message_history.invoke(\n",
    "    {\"input\": \"我刚说过什么？？\"},\n",
    "    config={\"configurable\": {\"session_id\": \"111\"}}\n",
    ")"
   ]
  },
  {
   "cell_type": "code",
   "execution_count": 125,
   "id": "181597c5-a5ab-4986-b410-d8716c983771",
   "metadata": {},
   "outputs": [
    {
     "data": {
      "text/plain": [
       "AIMessage(content='**你刚让我讲一个笑话，我分享了一个程序员的笑话给你。希望你喜欢！** 😄', response_metadata={'token_usage': {'completion_tokens': 38, 'prompt_tokens': 143, 'total_tokens': 181}, 'model_name': 'gpt-3.5-turbo', 'system_fingerprint': 'fp_3b956da36b', 'finish_reason': 'stop', 'logprobs': None}, id='run-c75bea04-d4cf-4e2a-941d-2a8e7ce9d4e5-0')"
      ]
     },
     "execution_count": 125,
     "metadata": {},
     "output_type": "execute_result"
    }
   ],
   "source": [
    "res"
   ]
  },
  {
   "cell_type": "code",
   "execution_count": 120,
   "id": "7141c920-1b3d-4496-bc2e-53b35d47297f",
   "metadata": {},
   "outputs": [],
   "source": [
    "history = get_session_history(\"111\")"
   ]
  },
  {
   "cell_type": "code",
   "execution_count": 126,
   "id": "6a194537-4774-41a6-ad59-756c5c502cee",
   "metadata": {},
   "outputs": [
    {
     "data": {
      "text/plain": [
       "[HumanMessage(content='你是谁？'),\n",
       " AIMessage(content='**我是二狗，一个智能聊天机器人。有什么可以帮助你的吗？**', response_metadata={'token_usage': {'completion_tokens': 34, 'prompt_tokens': 47, 'total_tokens': 81}, 'model_name': 'gpt-3.5-turbo', 'system_fingerprint': 'fp_a450710239', 'finish_reason': 'stop', 'logprobs': None}, id='run-7bd96052-814c-41af-ac22-4992432c4a04-0'),\n",
       " HumanMessage(content='讲个笑话？'),\n",
       " AIMessage(content='**当程序员去购物时，他们总是在超市里寻找数组的第一个元素。** 😄', response_metadata={'token_usage': {'completion_tokens': 30, 'prompt_tokens': 95, 'total_tokens': 125}, 'model_name': 'gpt-3.5-turbo', 'system_fingerprint': 'fp_3b956da36b', 'finish_reason': 'stop', 'logprobs': None}, id='run-d01001cb-feab-4197-a304-396b4a6f071e-0'),\n",
       " HumanMessage(content='我刚说过什么？？'),\n",
       " AIMessage(content='**你刚让我讲一个笑话，我分享了一个程序员的笑话给你。希望你喜欢！** 😄', response_metadata={'token_usage': {'completion_tokens': 38, 'prompt_tokens': 143, 'total_tokens': 181}, 'model_name': 'gpt-3.5-turbo', 'system_fingerprint': 'fp_3b956da36b', 'finish_reason': 'stop', 'logprobs': None}, id='run-c75bea04-d4cf-4e2a-941d-2a8e7ce9d4e5-0')]"
      ]
     },
     "execution_count": 126,
     "metadata": {},
     "output_type": "execute_result"
    }
   ],
   "source": [
    "history.messages"
   ]
  },
  {
   "cell_type": "code",
   "execution_count": null,
   "id": "9eb8c710-ea73-4cec-8d99-d834d0c34254",
   "metadata": {},
   "outputs": [],
   "source": []
  }
 ],
 "metadata": {
  "kernelspec": {
   "display_name": "Python 3 (ipykernel)",
   "language": "python",
   "name": "python3"
  },
  "language_info": {
   "codemirror_mode": {
    "name": "ipython",
    "version": 3
   },
   "file_extension": ".py",
   "mimetype": "text/x-python",
   "name": "python",
   "nbconvert_exporter": "python",
   "pygments_lexer": "ipython3",
   "version": "3.11.9"
  }
 },
 "nbformat": 4,
 "nbformat_minor": 5
}
