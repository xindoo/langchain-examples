{
 "cells": [
  {
   "cell_type": "code",
   "execution_count": 1,
   "id": "fdc28f61-83a8-4512-9ad1-48d50e37e7bb",
   "metadata": {},
   "outputs": [],
   "source": [
    "from langchain_openai import ChatOpenAI\n",
    "from langchain_core.prompts import ChatPromptTemplate\n",
    "from langchain_core.output_parsers import StrOutputParser, SimpleJsonOutputParser\n",
    "from langchain_core.runnables import RunnablePassthrough"
   ]
  },
  {
   "cell_type": "code",
   "execution_count": 2,
   "id": "2feb1f29-cfd0-48f8-9957-badded466bad",
   "metadata": {},
   "outputs": [],
   "source": [
    "\n",
    "model = ChatOpenAI(model=\"gpt-3.5-turbo\", max_tokens=4096)\n",
    "write_prompt = ChatPromptTemplate.from_template(\"写一篇关于{topic}的技术博客,用markdown格式写,不少于500字。\")\n",
    "output_parser = StrOutputParser()\n",
    "\n",
    "write_chain = write_prompt | model | output_parser\n",
    "\n"
   ]
  },
  {
   "cell_type": "code",
   "execution_count": 3,
   "id": "23748a74-a16d-40bf-8670-be76563e4c64",
   "metadata": {},
   "outputs": [],
   "source": [
    "# write_chain.invoke(\"java hashmap\")"
   ]
  },
  {
   "cell_type": "code",
   "execution_count": 4,
   "id": "e61c6f04-2ebc-403e-b561-19d5a701e9a4",
   "metadata": {},
   "outputs": [],
   "source": [
    "analysis_prompt = ChatPromptTemplate.from_template(\"给下面这篇文章评分 \\n\\n {content}\")\n",
    "\n",
    "composed_chain = {\"content\": write_chain} | analysis_prompt | model | StrOutputParser()"
   ]
  },
  {
   "cell_type": "code",
   "execution_count": 5,
   "id": "829f7a35-7ec3-485a-8bd9-947d6c45ba34",
   "metadata": {},
   "outputs": [
    {
     "name": "stdout",
     "output_type": "stream",
     "text": [
      "我会给这篇文章打 4 星评分。文章内容清晰明了，介绍了区块链技术的原理、应用和挑战，结构也比较完整。但是在一些地方可以进一步展开，比如在介绍区块链技术在不同领域的应用时可以举更多的例子，让读者更加深入了解。整体来说，是一篇值得阅读的文章。\n"
     ]
    }
   ],
   "source": [
    "print(composed_chain.invoke(\"区块链\"))"
   ]
  },
  {
   "cell_type": "code",
   "execution_count": null,
   "id": "ee841c28-8449-4e9e-bb49-f7a95a26c78e",
   "metadata": {},
   "outputs": [],
   "source": []
  }
 ],
 "metadata": {
  "kernelspec": {
   "display_name": "Python 3 (ipykernel)",
   "language": "python",
   "name": "python3"
  }
 },
 "nbformat": 4,
 "nbformat_minor": 5
}
